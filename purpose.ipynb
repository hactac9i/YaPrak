{
 "cells": [
  {
   "cell_type": "code",
   "execution_count": null,
   "metadata": {},
   "outputs": [
    {
     "data": {
      "text/plain": [
       "array(['приобретение автомобиля', 'на покупку подержанного автомобиля',\n",
       "       'на покупку своего автомобиля', 'автомобили',\n",
       "       'сделка с подержанным автомобилем', 'автомобиль',\n",
       "       'свой автомобиль', 'сделка с автомобилем', 'на покупку автомобиля'],\n",
       "      dtype=object)"
      ]
     },
     "metadata": {},
     "output_type": "display_data"
    }
   ],
   "source": [
    "# Начнем с данных об операцаях с автомобилем\n",
    "df[df['purpose'].str.contains('автомобил')]['purpose'].unique()\n"
   ]
  },
  {
   "cell_type": "code",
   "execution_count": null,
   "metadata": {},
   "outputs": [],
   "source": [
    "# Заменим все операции с автомобилями на строку \"операция с автомобилем\"\n",
    "\n",
    "df.loc[df['purpose'].str.contains('автомобил'), 'purpose'] = 'операция с автомобилем'\n"
   ]
  },
  {
   "cell_type": "code",
   "execution_count": null,
   "metadata": {},
   "outputs": [],
   "source": [
    "# Заменим все операции с недвижимостью на \"оперция с недвижимостью\"\n",
    "# Не будем разделять на коммерческую и жилую, т.к. есть строки не содержищие информацию об этом\n",
    "\n",
    "df['purpose'] = df['purpose'].apply(lambda x: 'операция с недвижимостью' if re.search(r'недвижимост[а-я]*|жил[а-я]*', x) else x)\n"
   ]
  },
  {
   "cell_type": "code",
   "execution_count": null,
   "metadata": {},
   "outputs": [],
   "source": [
    "# Повторим для свадьбы\n",
    "\n",
    "df['purpose'] = df['purpose'].apply(lambda x: 'свадьба' if re.search(r'свадь[а-я]', x) else x)"
   ]
  },
  {
   "cell_type": "code",
   "execution_count": null,
   "metadata": {},
   "outputs": [],
   "source": [
    "# Повторим для образования\n",
    "\n",
    "df['purpose'] = df['purpose'].apply(lambda x: 'образование' if re.search(r'образов[а-я]', x) else x)"
   ]
  },
  {
   "cell_type": "code",
   "execution_count": null,
   "metadata": {},
   "outputs": [
    {
     "name": "stdout",
     "output_type": "stream",
     "text": [
      "Уникальные значения в столбце education: ['высшее' 'среднее' 'неоконченное высшее' 'начальное' 'ученая степень'] \n",
      "\n",
      "Уникальные значения в столбце family_status: ['женат / замужем' 'гражданский брак' 'вдовец / вдова' 'в разводе'\n",
      " 'Не женат / не замужем'] \n",
      "\n",
      "Уникальные значения в столбце gender: ['F' 'M' 'XNA'] \n",
      "\n",
      "Уникальные значения в столбце income_type: ['сотрудник' 'пенсионер' 'компаньон' 'госслужащий' 'безработный'\n",
      " 'предприниматель' 'студент' 'в декрете'] \n",
      "\n",
      "Уникальные значения в столбце purpose: ['операция с недвижимостью' 'операция с автомобилем' 'образование'\n",
      " 'свадьба'] \n",
      "\n"
     ]
    }
   ],
   "source": [
    "# Проверяем уникальные значения снова \n",
    "\n",
    "for column in df.select_dtypes(include=['object']):\n",
    "    unique_values = df[column].unique()\n",
    "    print(f'Уникальные значения в столбце {column}: {unique_values} \\n')"
   ]
  },
  {
   "cell_type": "code",
   "execution_count": null,
   "metadata": {},
   "outputs": [
    {
     "data": {
      "text/plain": [
       "405"
      ]
     },
     "metadata": {},
     "output_type": "display_data"
    }
   ],
   "source": [
    "df.duplicated().sum()\n"
   ]
  }
 ],
 "metadata": {
  "kernelspec": {
   "display_name": "Python 3",
   "language": "python",
   "name": "python3"
  },
  "language_info": {
   "name": "python",
   "version": "3.11.4"
  },
  "orig_nbformat": 4
 },
 "nbformat": 4,
 "nbformat_minor": 2
}
